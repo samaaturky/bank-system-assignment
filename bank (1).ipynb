{
 "cells": [
  {
   "cell_type": "code",
   "execution_count": 1,
   "id": "18753fe9-e59c-4598-ab1f-c524b58f3d4a",
   "metadata": {},
   "outputs": [],
   "source": [
    "def accountcreation():\n",
    " name=input(\"enter ur name: \")\n",
    " balance=float(input(\"enter your initial balance\"))\n",
    " return name,balance\n",
    "\n",
    "def deposit(balance,dep):\n",
    "    balance+=dep\n",
    "    return balance\n",
    "\n",
    "def withdraw(balance,withdraw):\n",
    "    if balance>=withdraw:\n",
    "        balance-=withdraw\n",
    "    else:\n",
    "        print(\"insufficient balance\")\n",
    "    return balance\n",
    "    "
   ]
  },
  {
   "cell_type": "code",
   "execution_count": 2,
   "id": "d41c8542-e5e1-434d-8546-a635dd652bdc",
   "metadata": {},
   "outputs": [
    {
     "name": "stdout",
     "output_type": "stream",
     "text": [
      "Welcome to CIB\n"
     ]
    },
    {
     "name": "stdin",
     "output_type": "stream",
     "text": [
      "enter ur name:  samaa\n",
      "enter your initial balance 1000.5\n"
     ]
    },
    {
     "name": "stdout",
     "output_type": "stream",
     "text": [
      "samaa, ur balance= 1000.5\n"
     ]
    },
    {
     "name": "stdin",
     "output_type": "stream",
     "text": [
      "samaa, enter:\n",
      "1.for deposite\n",
      "2.for withdraw\n",
      "3.for exit 500\n"
     ]
    },
    {
     "name": "stdout",
     "output_type": "stream",
     "text": [
      "invalid input, please enter a valid number of the following:\n"
     ]
    },
    {
     "name": "stdin",
     "output_type": "stream",
     "text": [
      "samaa, enter:\n",
      "1.for deposite\n",
      "2.for withdraw\n",
      "3.for exit 1\n",
      "samaa,enter the amount of deposit 500\n"
     ]
    },
    {
     "name": "stdout",
     "output_type": "stream",
     "text": [
      "samaa,ur current balance= 1500.5\n"
     ]
    },
    {
     "name": "stdin",
     "output_type": "stream",
     "text": [
      "samaa, enter:\n",
      "1.for deposite\n",
      "2.for withdraw\n",
      "3.for exit 2\n",
      "samaa,enter the amount of withdraw 500.5\n"
     ]
    },
    {
     "name": "stdout",
     "output_type": "stream",
     "text": [
      "ur current balance= 1000.0\n"
     ]
    },
    {
     "name": "stdin",
     "output_type": "stream",
     "text": [
      "samaa, enter:\n",
      "1.for deposite\n",
      "2.for withdraw\n",
      "3.for exit 3\n"
     ]
    },
    {
     "name": "stdout",
     "output_type": "stream",
     "text": [
      "quit\n"
     ]
    }
   ],
   "source": [
    "import random\n",
    "\n",
    "banks = [\"CIB\", \"NBE\", \"ALAHLY\"]\n",
    "print(f\"Welcome to {random.choice(banks)}\")\n",
    "\n",
    "name,balance=accountcreation()\n",
    "\n",
    "print(f\"{name}, ur balance= {balance}\")\n",
    "while True:\n",
    "    user_input=input(f\"{name}, enter:\\n1.for deposite\\n2.for withdraw\\n3.for exit\")\n",
    "    if user_input=='1':\n",
    "        dep=float(input(f\"{name},enter the amount of deposit\"))\n",
    "        balance=deposit(balance,dep)\n",
    "        print(f\"{name},ur current balance= {balance}\")\n",
    "    elif user_input=='2':\n",
    "        withdraw_amount=float(input(f\"{name},enter the amount of withdraw\"))\n",
    "        balance=withdraw(balance,withdraw_amount)\n",
    "        print(f\"ur current balance= {balance}\")\n",
    "\n",
    "    elif user_input=='3':\n",
    "        break\n",
    "\n",
    "    else:\n",
    "        print(\"invalid input, please enter a valid number of the following:\")\n",
    "    \n",
    "    \n",
    "print(\"quit\")"
   ]
  }
 ],
 "metadata": {
  "kernelspec": {
   "display_name": "Python 3 (ipykernel)",
   "language": "python",
   "name": "python3"
  },
  "language_info": {
   "codemirror_mode": {
    "name": "ipython",
    "version": 3
   },
   "file_extension": ".py",
   "mimetype": "text/x-python",
   "name": "python",
   "nbconvert_exporter": "python",
   "pygments_lexer": "ipython3",
   "version": "3.11.7"
  }
 },
 "nbformat": 4,
 "nbformat_minor": 5
}
