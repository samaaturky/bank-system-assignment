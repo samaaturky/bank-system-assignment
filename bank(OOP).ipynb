{
 "cells": [
  {
   "cell_type": "code",
   "execution_count": 1,
   "id": "dc77284d-450c-4f3a-af3c-de50e55fbecc",
   "metadata": {},
   "outputs": [],
   "source": [
    "class bank:\n",
    "    def __init__(self,name,balance):\n",
    "        self.name=name\n",
    "        self.balance=balance\n",
    "    def display_current_balance(self):\n",
    "        return print(f\"Hi {self.name}! Your current balance is: {self.balance}\")\n",
    "\n",
    "    def deposit(self,dep):\n",
    "        self.balance+=dep\n",
    "        return self.balance\n",
    "        self.display_current_balance()\n",
    "\n",
    "    def withdraw(self,withdraw):\n",
    "        if withdraw<=self.balance:\n",
    "            self.balance-=withdraw\n",
    "        else:\n",
    "            print(\"insufficient balance\")\n",
    "        return self.balance\n",
    "        self.display_current_balance()\n"
   ]
  },
  {
   "cell_type": "code",
   "execution_count": 2,
   "id": "3afafec5-019b-4ce6-9641-a11ed3116dfd",
   "metadata": {},
   "outputs": [
    {
     "name": "stdout",
     "output_type": "stream",
     "text": [
      "Welcome to NBE\n"
     ]
    },
    {
     "name": "stdin",
     "output_type": "stream",
     "text": [
      "Enter your name:  samaa\n",
      "Enter your initial balance:  1000\n"
     ]
    },
    {
     "name": "stdout",
     "output_type": "stream",
     "text": [
      "samaa ur balance= 1000.0\n"
     ]
    },
    {
     "name": "stdin",
     "output_type": "stream",
     "text": [
      "samaa, enter:\n",
      "1.for deposite\n",
      "2.for withdraw\n",
      "3.for exit 500.5\n"
     ]
    },
    {
     "name": "stdout",
     "output_type": "stream",
     "text": [
      "invalid input, please enter a valid number of the following:\n"
     ]
    },
    {
     "name": "stdin",
     "output_type": "stream",
     "text": [
      "samaa, enter:\n",
      "1.for deposite\n",
      "2.for withdraw\n",
      "3.for exit 6\n"
     ]
    },
    {
     "name": "stdout",
     "output_type": "stream",
     "text": [
      "invalid input, please enter a valid number of the following:\n"
     ]
    },
    {
     "name": "stdin",
     "output_type": "stream",
     "text": [
      "samaa, enter:\n",
      "1.for deposite\n",
      "2.for withdraw\n",
      "3.for exit 1\n",
      "samaa,enter the amount of deposit 500.55\n"
     ]
    },
    {
     "name": "stdout",
     "output_type": "stream",
     "text": [
      "samaa,ur current balance= 1500.55\n"
     ]
    },
    {
     "name": "stdin",
     "output_type": "stream",
     "text": [
      "samaa, enter:\n",
      "1.for deposite\n",
      "2.for withdraw\n",
      "3.for exit 2\n",
      "samaa,enter the amount of withdraw 2000\n"
     ]
    },
    {
     "name": "stdout",
     "output_type": "stream",
     "text": [
      "insufficient balance\n",
      "ur current balance= 1500.55\n"
     ]
    },
    {
     "name": "stdin",
     "output_type": "stream",
     "text": [
      "samaa, enter:\n",
      "1.for deposite\n",
      "2.for withdraw\n",
      "3.for exit 2\n",
      "samaa,enter the amount of withdraw 500\n"
     ]
    },
    {
     "name": "stdout",
     "output_type": "stream",
     "text": [
      "ur current balance= 1000.55\n"
     ]
    },
    {
     "name": "stdin",
     "output_type": "stream",
     "text": [
      "samaa, enter:\n",
      "1.for deposite\n",
      "2.for withdraw\n",
      "3.for exit 3\n"
     ]
    },
    {
     "name": "stdout",
     "output_type": "stream",
     "text": [
      "quit\n"
     ]
    }
   ],
   "source": [
    "import random\n",
    "\n",
    "banks = [\"CIB\", \"NBE\", \"ALAHLY\"]\n",
    "print(f\"Welcome to {random.choice(banks)}\")\n",
    "\n",
    "name = input(\"Enter your name: \")\n",
    "balance = float(input(\"Enter your initial balance: \"))\n",
    "\n",
    "account=bank(name,balance)\n",
    "print(f\"{name} ur balance= {balance}\")\n",
    "while True:\n",
    "    user_input=input(f\"{name}, enter:\\n1.for deposite\\n2.for withdraw\\n3.for exit\")\n",
    "    if user_input=='1':\n",
    "        dep=float(input(f\"{name},enter the amount of deposit\"))\n",
    "        balance=account.deposit(dep)\n",
    "        print(f\"{name},ur current balance= {balance}\")\n",
    "    elif user_input=='2':\n",
    "        withdraw_amount=float(input(f\"{name},enter the amount of withdraw\"))\n",
    "        balance=account.withdraw(withdraw_amount)\n",
    "        print(f\"ur current balance= {balance}\")\n",
    "\n",
    "    elif user_input=='3':\n",
    "        break\n",
    "\n",
    "    else:\n",
    "        print(\"invalid input, please enter a valid number of the following:\")\n",
    "    \n",
    "    \n",
    "print(\"quit\")"
   ]
  },
  {
   "cell_type": "code",
   "execution_count": null,
   "id": "b8449d55-315f-4ea8-ad09-8cbf552d539c",
   "metadata": {},
   "outputs": [],
   "source": []
  }
 ],
 "metadata": {
  "kernelspec": {
   "display_name": "Python 3 (ipykernel)",
   "language": "python",
   "name": "python3"
  },
  "language_info": {
   "codemirror_mode": {
    "name": "ipython",
    "version": 3
   },
   "file_extension": ".py",
   "mimetype": "text/x-python",
   "name": "python",
   "nbconvert_exporter": "python",
   "pygments_lexer": "ipython3",
   "version": "3.11.7"
  }
 },
 "nbformat": 4,
 "nbformat_minor": 5
}
